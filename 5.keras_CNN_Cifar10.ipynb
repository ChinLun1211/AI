{
  "nbformat": 4,
  "nbformat_minor": 0,
  "metadata": {
    "colab": {
      "name": "「「keras_CNN_Cifar10.ipynb」的副本」的副本",
      "provenance": []
    },
    "kernelspec": {
      "name": "python3",
      "display_name": "Python 3"
    },
    "language_info": {
      "name": "python"
    },
    "accelerator": "GPU"
  },
  "cells": [
    {
      "cell_type": "code",
      "source": [
        "from tensorflow import keras\n",
        "from keras.models import Sequential\n",
        "from keras.layers import Dense, Conv2D, MaxPooling2D, Flatten\n",
        "model=Sequential()\n",
        "model.add(Conv2D(filters=64, kernel_size=(5, 5), input_shape=(32, 32, 3), activation='relu'))\n",
        "model.add(Conv2D(filters=64, kernel_size=(5, 5), activation='relu'))\n",
        "model.add(MaxPooling2D(pool_size=2))\n",
        "model.add(Conv2D(filters=128, kernel_size=(5, 5), activation='relu'))\n",
        "model.add(Conv2D(filters=128, kernel_size=(5, 5), activation='relu'))\n",
        "model.add(MaxPooling2D(pool_size=2))\n",
        "model.add(Flatten())\n",
        "model.add(Dense(10, activation='softmax'))\n",
        "model.summary()\n",
        "model.compile(optimizer='rmsprop', loss='categorical_crossentropy', metrics=['accuracy'])"
      ],
      "metadata": {
        "colab": {
          "base_uri": "https://localhost:8080/"
        },
        "id": "LQ_HZ-tK8L-C",
        "outputId": "b2ccc43e-be5d-479d-d6ee-40d0c283b224"
      },
      "execution_count": 1,
      "outputs": [
        {
          "output_type": "stream",
          "name": "stdout",
          "text": [
            "Model: \"sequential\"\n",
            "_________________________________________________________________\n",
            " Layer (type)                Output Shape              Param #   \n",
            "=================================================================\n",
            " conv2d (Conv2D)             (None, 28, 28, 64)        4864      \n",
            "                                                                 \n",
            " conv2d_1 (Conv2D)           (None, 24, 24, 64)        102464    \n",
            "                                                                 \n",
            " max_pooling2d (MaxPooling2D  (None, 12, 12, 64)       0         \n",
            " )                                                               \n",
            "                                                                 \n",
            " conv2d_2 (Conv2D)           (None, 8, 8, 128)         204928    \n",
            "                                                                 \n",
            " conv2d_3 (Conv2D)           (None, 4, 4, 128)         409728    \n",
            "                                                                 \n",
            " max_pooling2d_1 (MaxPooling  (None, 2, 2, 128)        0         \n",
            " 2D)                                                             \n",
            "                                                                 \n",
            " flatten (Flatten)           (None, 512)               0         \n",
            "                                                                 \n",
            " dense (Dense)               (None, 10)                5130      \n",
            "                                                                 \n",
            "=================================================================\n",
            "Total params: 727,114\n",
            "Trainable params: 727,114\n",
            "Non-trainable params: 0\n",
            "_________________________________________________________________\n"
          ]
        }
      ]
    },
    {
      "cell_type": "code",
      "source": [
        "cifar10=keras.datasets.cifar10\n",
        "(train_data, train_label), (test_data, test_label) = cifar10.load_data()\n",
        "train_label_original=train_label\n",
        "train_label = keras.utils.to_categorical(train_label)\n",
        "test_label = keras.utils.to_categorical(test_label)"
      ],
      "metadata": {
        "id": "4eM5EOSr4DLB",
        "outputId": "da95a79a-c39c-485e-a277-7719c2026dda",
        "colab": {
          "base_uri": "https://localhost:8080/"
        }
      },
      "execution_count": 2,
      "outputs": [
        {
          "output_type": "stream",
          "name": "stdout",
          "text": [
            "Downloading data from https://www.cs.toronto.edu/~kriz/cifar-10-python.tar.gz\n",
            "170500096/170498071 [==============================] - 2s 0us/step\n",
            "170508288/170498071 [==============================] - 2s 0us/step\n"
          ]
        }
      ]
    },
    {
      "cell_type": "code",
      "source": [
        "import matplotlib.pyplot as plt\n",
        "category=['airplane','automobile','bird','cat','deer','dog','frog','horse','ship','truck']\n",
        "plt.imshow(train_data[5])\n",
        "plt.title(category[int(train_label_original[5])])\n",
        "plt.show()\n",
        "print(train_label_original[5])"
      ],
      "metadata": {
        "colab": {
          "base_uri": "https://localhost:8080/",
          "height": 298
        },
        "id": "4j8cPTbDahQr",
        "outputId": "812a5fad-6e80-4f2b-f5b5-69b6c17e9bfd"
      },
      "execution_count": 3,
      "outputs": [
        {
          "output_type": "display_data",
          "data": {
            "text/plain": [
              "<Figure size 432x288 with 1 Axes>"
            ],
            "image/png": "[encoded data removed]"
          },
          "metadata": {
            "needs_background": "light"
          }
        },
        {
          "output_type": "stream",
          "name": "stdout",
          "text": [
            "[1]\n"
          ]
        }
      ]
    },
    {
      "cell_type": "code",
      "source": [
        "train_history=model.fit(train_data,train_label,epochs=20,batch_size=512)\n"
      ],
      "metadata": {
        "id": "UFCQb8bgy3nU",
        "colab": {
          "base_uri": "https://localhost:8080/"
        },
        "outputId": "b8d3a5e5-c517-4aea-dd20-28c6a8c09591"
      },
      "execution_count": 4,
      "outputs": [
        {
          "output_type": "stream",
          "name": "stdout",
          "text": [
            "Epoch 1/20\n",
            "98/98 [==============================] - 18s 55ms/step - loss: 13.8932 - accuracy: 0.2012\n",
            "Epoch 2/20\n",
            "98/98 [==============================] - 5s 47ms/step - loss: 2.2569 - accuracy: 0.2274\n",
            "Epoch 3/20\n",
            "98/98 [==============================] - 5s 47ms/step - loss: 2.1013 - accuracy: 0.2885\n",
            "Epoch 4/20\n",
            "98/98 [==============================] - 5s 48ms/step - loss: 1.8912 - accuracy: 0.3487\n",
            "Epoch 5/20\n",
            "98/98 [==============================] - 5s 48ms/step - loss: 1.7030 - accuracy: 0.4132\n",
            "Epoch 6/20\n",
            "98/98 [==============================] - 5s 48ms/step - loss: 1.5116 - accuracy: 0.4797\n",
            "Epoch 7/20\n",
            "98/98 [==============================] - 5s 49ms/step - loss: 1.4940 - accuracy: 0.4975\n",
            "Epoch 8/20\n",
            "98/98 [==============================] - 5s 49ms/step - loss: 1.2814 - accuracy: 0.5640\n",
            "Epoch 9/20\n",
            "98/98 [==============================] - 5s 48ms/step - loss: 1.2420 - accuracy: 0.5808\n",
            "Epoch 10/20\n",
            "98/98 [==============================] - 5s 48ms/step - loss: 1.0178 - accuracy: 0.6522\n",
            "Epoch 11/20\n",
            "98/98 [==============================] - 5s 48ms/step - loss: 0.9134 - accuracy: 0.6873\n",
            "Epoch 12/20\n",
            "98/98 [==============================] - 5s 48ms/step - loss: 0.7837 - accuracy: 0.7309\n",
            "Epoch 13/20\n",
            "98/98 [==============================] - 5s 47ms/step - loss: 0.6948 - accuracy: 0.7623\n",
            "Epoch 14/20\n",
            "98/98 [==============================] - 5s 47ms/step - loss: 0.5813 - accuracy: 0.8001\n",
            "Epoch 15/20\n",
            "98/98 [==============================] - 5s 47ms/step - loss: 0.4988 - accuracy: 0.8307\n",
            "Epoch 16/20\n",
            "98/98 [==============================] - 5s 47ms/step - loss: 0.4604 - accuracy: 0.8501\n",
            "Epoch 17/20\n",
            "98/98 [==============================] - 5s 47ms/step - loss: 0.3584 - accuracy: 0.8794\n",
            "Epoch 18/20\n",
            "98/98 [==============================] - 5s 47ms/step - loss: 0.3380 - accuracy: 0.8897\n",
            "Epoch 19/20\n",
            "98/98 [==============================] - 5s 47ms/step - loss: 0.3251 - accuracy: 0.8973\n",
            "Epoch 20/20\n",
            "98/98 [==============================] - 5s 48ms/step - loss: 0.3063 - accuracy: 0.9085\n"
          ]
        }
      ]
    },
    {
      "cell_type": "code",
      "source": [
        "score=model.evaluate(test_data, test_label)\n",
        "print(score[1])"
      ],
      "metadata": {
        "id": "SC2VW7yl87F-",
        "colab": {
          "base_uri": "https://localhost:8080/"
        },
        "outputId": "0d8f2dd1-8779-46f6-c571-acb3705facc8"
      },
      "execution_count": 5,
      "outputs": [
        {
          "output_type": "stream",
          "name": "stdout",
          "text": [
            "313/313 [==============================] - 2s 4ms/step - loss: 2.3504 - accuracy: 0.5915\n",
            "0.5914999842643738\n"
          ]
        }
      ]
    },
    {
      "cell_type": "code",
      "source": [
        "#繪製正確性與損失歷史圖\n",
        "import matplotlib.pyplot as plt\n",
        "import numpy as np\n",
        "\n",
        "def show_train_history(train_history, train):\n",
        "    plt.plot(train_history.history[train])\n",
        "    plt.title('Train History')\n",
        "    plt.ylabel(train)\n",
        "    plt.xlabel('Epoch')\n",
        "    plt.legend(['train'], loc='center right')\n",
        "    plt.show()\n",
        "\n",
        "show_train_history(train_history, 'accuracy')\n",
        "show_train_history(train_history, 'loss')"
      ],
      "metadata": {
        "colab": {
          "base_uri": "https://localhost:8080/",
          "height": 573
        },
        "id": "YycOQ_auS_1s",
        "outputId": "02a5e684-75f2-4fdd-9eff-7e31099ae7fc"
      },
      "execution_count": 6,
      "outputs": [
        {
          "output_type": "display_data",
          "data": {
            "text/plain": [
              "<Figure size 432x288 with 1 Axes>"
            ],
            "image/png": "[encoded data removed]"
          },
          "metadata": {
            "needs_background": "light"
          }
        },
        {
          "output_type": "display_data",
          "data": {
            "text/plain": [
              "<Figure size 432x288 with 1 Axes>"
            ],
            "image/png": "[encoded data removed]"
          },
          "metadata": {
            "needs_background": "light"
          }
        }
      ]
    }
  ]
}